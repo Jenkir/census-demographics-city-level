{
 "cells": [
  {
   "cell_type": "code",
   "execution_count": 1,
   "id": "7d9787aa",
   "metadata": {},
   "outputs": [],
   "source": [
    "## Census American Community Survey 5-year estimates; Demographics at county (city) geographic level\n"
   ]
  },
  {
   "cell_type": "code",
   "execution_count": 2,
   "id": "189a897f",
   "metadata": {},
   "outputs": [],
   "source": [
    "#see https://pygis.io/docs/d_access_census.html"
   ]
  },
  {
   "cell_type": "code",
   "execution_count": 3,
   "id": "4b9616b2",
   "metadata": {},
   "outputs": [],
   "source": [
    "# data source: "
   ]
  },
  {
   "cell_type": "code",
   "execution_count": 4,
   "id": "989f74aa",
   "metadata": {},
   "outputs": [],
   "source": [
    "# From https://www.census.gov/programs-surveys/acs/guidance/comparing-acs-data.html:\n",
    "# \"Due to the impact of the COVID-19 pandemic, the Census Bureau changed the 2020 ACS release. \n",
    "# Instead of providing the standard 1-year data products, the Census Bureau released experimental estimates from the 1-year data. \n",
    "# Data users should not compare 2020 ACS 1-year experimental estimates with any other data.\"\""
   ]
  },
  {
   "cell_type": "code",
   "execution_count": 5,
   "id": "e3541104",
   "metadata": {},
   "outputs": [],
   "source": [
    "# Dependencies\n",
    "from census import Census\n",
    "from config import (census_key)\n",
    "from us import states\n",
    "import numpy as np\n",
    "import pandas as pd\n",
    "import matplotlib.pyplot as plt\n",
    "import requests\n",
    "\n",
    "# Census API key\n",
    "c = Census(census_key)"
   ]
  },
  {
   "cell_type": "code",
   "execution_count": 6,
   "id": "d92ff12b",
   "metadata": {},
   "outputs": [],
   "source": [
    "import os"
   ]
  },
  {
   "cell_type": "code",
   "execution_count": 7,
   "id": "6de9b788",
   "metadata": {},
   "outputs": [
    {
     "data": {
      "text/plain": [
       "'C:\\\\Users\\\\Jenkir\\\\Desktop\\\\cherry-tree-lane-analytics\\\\Medium-blog-post1\\\\census-demographics-city-level'"
      ]
     },
     "execution_count": 7,
     "metadata": {},
     "output_type": "execute_result"
    }
   ],
   "source": [
    "os.getcwd()"
   ]
  },
  {
   "cell_type": "code",
   "execution_count": 8,
   "id": "70066bb3",
   "metadata": {},
   "outputs": [],
   "source": [
    "# need to change the working directory; be sure that the config file for the census API is also in this folder\n",
    "#os.chdir('C:\\\\Users\\\\Jenkir\\\\Desktop\\\\ECO-iMPACT\\\\Medium-blog-post1')"
   ]
  },
  {
   "cell_type": "code",
   "execution_count": 9,
   "id": "e5c6eb2e",
   "metadata": {},
   "outputs": [
    {
     "data": {
      "text/plain": [
       "'C:\\\\Users\\\\Jenkir\\\\Desktop\\\\cherry-tree-lane-analytics\\\\Medium-blog-post1\\\\census-demographics-city-level'"
      ]
     },
     "execution_count": 9,
     "metadata": {},
     "output_type": "execute_result"
    }
   ],
   "source": [
    "os.getcwd()"
   ]
  },
  {
   "cell_type": "code",
   "execution_count": 10,
   "id": "a1d86d9b",
   "metadata": {},
   "outputs": [],
   "source": [
    "pd.set_option('display.max_rows', 200)"
   ]
  },
  {
   "cell_type": "code",
   "execution_count": 11,
   "id": "60779a2c",
   "metadata": {},
   "outputs": [],
   "source": [
    "pd.set_option('max_colwidth', 200)"
   ]
  },
  {
   "cell_type": "code",
   "execution_count": 12,
   "id": "371829c6",
   "metadata": {},
   "outputs": [
    {
     "ename": "CensusException",
     "evalue": "Sorry, the system is currently undergoing maintenance or is busy.  Please try again later.",
     "output_type": "error",
     "traceback": [
      "\u001b[1;31m---------------------------------------------------------------------------\u001b[0m",
      "\u001b[1;31mCensusException\u001b[0m                           Traceback (most recent call last)",
      "\u001b[1;32m~\\AppData\\Local\\Temp\\ipykernel_12056\\819555897.py\u001b[0m in \u001b[0;36m<module>\u001b[1;34m\u001b[0m\n\u001b[0;32m      9\u001b[0m                                   \u001b[0mstate_fips\u001b[0m \u001b[1;33m=\u001b[0m \u001b[0mstates\u001b[0m\u001b[1;33m.\u001b[0m\u001b[0mMD\u001b[0m\u001b[1;33m.\u001b[0m\u001b[0mfips\u001b[0m\u001b[1;33m,\u001b[0m\u001b[1;33m\u001b[0m\u001b[1;33m\u001b[0m\u001b[0m\n\u001b[0;32m     10\u001b[0m                                   \u001b[0mcounty_fips\u001b[0m \u001b[1;33m=\u001b[0m \u001b[1;34m\"*\"\u001b[0m\u001b[1;33m,\u001b[0m\u001b[1;33m\u001b[0m\u001b[1;33m\u001b[0m\u001b[0m\n\u001b[1;32m---> 11\u001b[1;33m                                   year = 2019)                          \n\u001b[0m",
      "\u001b[1;32m~\\anaconda3\\envs\\PythonData\\lib\\site-packages\\census\\core.py\u001b[0m in \u001b[0;36mwrapper\u001b[1;34m(self, *args, **kwargs)\u001b[0m\n\u001b[0;32m     48\u001b[0m                 raise UnsupportedYearException(\n\u001b[0;32m     49\u001b[0m                     'Geography is not available in {}. Available years include {}'.format(year, _years))\n\u001b[1;32m---> 50\u001b[1;33m             \u001b[1;32mreturn\u001b[0m \u001b[0mfunc\u001b[0m\u001b[1;33m(\u001b[0m\u001b[0mself\u001b[0m\u001b[1;33m,\u001b[0m \u001b[1;33m*\u001b[0m\u001b[0margs\u001b[0m\u001b[1;33m,\u001b[0m \u001b[1;33m**\u001b[0m\u001b[0mkwargs\u001b[0m\u001b[1;33m)\u001b[0m\u001b[1;33m\u001b[0m\u001b[1;33m\u001b[0m\u001b[0m\n\u001b[0m\u001b[0;32m     51\u001b[0m         \u001b[1;32mreturn\u001b[0m \u001b[0mwrapper\u001b[0m\u001b[1;33m\u001b[0m\u001b[1;33m\u001b[0m\u001b[0m\n\u001b[0;32m     52\u001b[0m     \u001b[1;32mreturn\u001b[0m \u001b[0minner\u001b[0m\u001b[1;33m\u001b[0m\u001b[1;33m\u001b[0m\u001b[0m\n",
      "\u001b[1;32m~\\anaconda3\\envs\\PythonData\\lib\\site-packages\\census\\core.py\u001b[0m in \u001b[0;36mstate_county\u001b[1;34m(self, fields, state_fips, county_fips, **kwargs)\u001b[0m\n\u001b[0;32m    246\u001b[0m             \u001b[1;34m'for'\u001b[0m\u001b[1;33m:\u001b[0m \u001b[1;34m'county:{}'\u001b[0m\u001b[1;33m.\u001b[0m\u001b[0mformat\u001b[0m\u001b[1;33m(\u001b[0m\u001b[0mcounty_fips\u001b[0m\u001b[1;33m)\u001b[0m\u001b[1;33m,\u001b[0m\u001b[1;33m\u001b[0m\u001b[1;33m\u001b[0m\u001b[0m\n\u001b[0;32m    247\u001b[0m             \u001b[1;34m'in'\u001b[0m\u001b[1;33m:\u001b[0m \u001b[1;34m'state:{}'\u001b[0m\u001b[1;33m.\u001b[0m\u001b[0mformat\u001b[0m\u001b[1;33m(\u001b[0m\u001b[0mstate_fips\u001b[0m\u001b[1;33m)\u001b[0m\u001b[1;33m,\u001b[0m\u001b[1;33m\u001b[0m\u001b[1;33m\u001b[0m\u001b[0m\n\u001b[1;32m--> 248\u001b[1;33m         }, **kwargs)\n\u001b[0m\u001b[0;32m    249\u001b[0m \u001b[1;33m\u001b[0m\u001b[0m\n\u001b[0;32m    250\u001b[0m     \u001b[1;33m@\u001b[0m\u001b[0msupported_years\u001b[0m\u001b[1;33m(\u001b[0m\u001b[1;33m)\u001b[0m\u001b[1;33m\u001b[0m\u001b[1;33m\u001b[0m\u001b[0m\n",
      "\u001b[1;32m~\\anaconda3\\envs\\PythonData\\lib\\site-packages\\census\\core.py\u001b[0m in \u001b[0;36mget\u001b[1;34m(self, *args, **kwargs)\u001b[0m\n\u001b[0;32m    311\u001b[0m         \u001b[0mself\u001b[0m\u001b[1;33m.\u001b[0m\u001b[0m_switch_endpoints\u001b[0m\u001b[1;33m(\u001b[0m\u001b[0mkwargs\u001b[0m\u001b[1;33m.\u001b[0m\u001b[0mget\u001b[0m\u001b[1;33m(\u001b[0m\u001b[1;34m'year'\u001b[0m\u001b[1;33m,\u001b[0m \u001b[0mself\u001b[0m\u001b[1;33m.\u001b[0m\u001b[0mdefault_year\u001b[0m\u001b[1;33m)\u001b[0m\u001b[1;33m)\u001b[0m\u001b[1;33m\u001b[0m\u001b[1;33m\u001b[0m\u001b[0m\n\u001b[0;32m    312\u001b[0m \u001b[1;33m\u001b[0m\u001b[0m\n\u001b[1;32m--> 313\u001b[1;33m         \u001b[1;32mreturn\u001b[0m \u001b[0msuper\u001b[0m\u001b[1;33m(\u001b[0m\u001b[0mACSClient\u001b[0m\u001b[1;33m,\u001b[0m \u001b[0mself\u001b[0m\u001b[1;33m)\u001b[0m\u001b[1;33m.\u001b[0m\u001b[0mget\u001b[0m\u001b[1;33m(\u001b[0m\u001b[1;33m*\u001b[0m\u001b[0margs\u001b[0m\u001b[1;33m,\u001b[0m \u001b[1;33m**\u001b[0m\u001b[0mkwargs\u001b[0m\u001b[1;33m)\u001b[0m\u001b[1;33m\u001b[0m\u001b[1;33m\u001b[0m\u001b[0m\n\u001b[0m\u001b[0;32m    314\u001b[0m \u001b[1;33m\u001b[0m\u001b[0m\n\u001b[0;32m    315\u001b[0m \u001b[1;33m\u001b[0m\u001b[0m\n",
      "\u001b[1;32m~\\anaconda3\\envs\\PythonData\\lib\\site-packages\\census\\core.py\u001b[0m in \u001b[0;36mget\u001b[1;34m(self, fields, geo, year, **kwargs)\u001b[0m\n\u001b[0;32m    157\u001b[0m         all_results = (self.query(forty_nine_fields, geo, year, sort_by_geoid=sort_by_geoid, **kwargs)\n\u001b[0;32m    158\u001b[0m                        for forty_nine_fields in chunks(fields, 49))\n\u001b[1;32m--> 159\u001b[1;33m         \u001b[0mmerged_results\u001b[0m \u001b[1;33m=\u001b[0m \u001b[1;33m[\u001b[0m\u001b[0mmerge\u001b[0m\u001b[1;33m(\u001b[0m\u001b[0mresult\u001b[0m\u001b[1;33m)\u001b[0m \u001b[1;32mfor\u001b[0m \u001b[0mresult\u001b[0m \u001b[1;32min\u001b[0m \u001b[0mzip\u001b[0m\u001b[1;33m(\u001b[0m\u001b[1;33m*\u001b[0m\u001b[0mall_results\u001b[0m\u001b[1;33m)\u001b[0m\u001b[1;33m]\u001b[0m\u001b[1;33m\u001b[0m\u001b[1;33m\u001b[0m\u001b[0m\n\u001b[0m\u001b[0;32m    160\u001b[0m \u001b[1;33m\u001b[0m\u001b[0m\n\u001b[0;32m    161\u001b[0m         \u001b[1;32mreturn\u001b[0m \u001b[0mmerged_results\u001b[0m\u001b[1;33m\u001b[0m\u001b[1;33m\u001b[0m\u001b[0m\n",
      "\u001b[1;32m~\\anaconda3\\envs\\PythonData\\lib\\site-packages\\census\\core.py\u001b[0m in \u001b[0;36m<genexpr>\u001b[1;34m(.0)\u001b[0m\n\u001b[0;32m    156\u001b[0m         \u001b[0msort_by_geoid\u001b[0m \u001b[1;33m=\u001b[0m \u001b[0mlen\u001b[0m\u001b[1;33m(\u001b[0m\u001b[0mfields\u001b[0m\u001b[1;33m)\u001b[0m \u001b[1;33m>\u001b[0m \u001b[1;36m49\u001b[0m \u001b[1;32mand\u001b[0m \u001b[1;33m(\u001b[0m\u001b[1;32mnot\u001b[0m \u001b[0myear\u001b[0m \u001b[1;32mor\u001b[0m \u001b[0myear\u001b[0m \u001b[1;33m>\u001b[0m \u001b[1;36m2009\u001b[0m\u001b[1;33m)\u001b[0m\u001b[1;33m\u001b[0m\u001b[1;33m\u001b[0m\u001b[0m\n\u001b[0;32m    157\u001b[0m         all_results = (self.query(forty_nine_fields, geo, year, sort_by_geoid=sort_by_geoid, **kwargs)\n\u001b[1;32m--> 158\u001b[1;33m                        for forty_nine_fields in chunks(fields, 49))\n\u001b[0m\u001b[0;32m    159\u001b[0m         \u001b[0mmerged_results\u001b[0m \u001b[1;33m=\u001b[0m \u001b[1;33m[\u001b[0m\u001b[0mmerge\u001b[0m\u001b[1;33m(\u001b[0m\u001b[0mresult\u001b[0m\u001b[1;33m)\u001b[0m \u001b[1;32mfor\u001b[0m \u001b[0mresult\u001b[0m \u001b[1;32min\u001b[0m \u001b[0mzip\u001b[0m\u001b[1;33m(\u001b[0m\u001b[1;33m*\u001b[0m\u001b[0mall_results\u001b[0m\u001b[1;33m)\u001b[0m\u001b[1;33m]\u001b[0m\u001b[1;33m\u001b[0m\u001b[1;33m\u001b[0m\u001b[0m\n\u001b[0;32m    160\u001b[0m \u001b[1;33m\u001b[0m\u001b[0m\n",
      "\u001b[1;32m~\\anaconda3\\envs\\PythonData\\lib\\site-packages\\census\\core.py\u001b[0m in \u001b[0;36mwrapper\u001b[1;34m(self, *args, **kwargs)\u001b[0m\n\u001b[0;32m     58\u001b[0m         \u001b[1;32mfor\u001b[0m \u001b[0m_\u001b[0m \u001b[1;32min\u001b[0m \u001b[0mrange\u001b[0m\u001b[1;33m(\u001b[0m\u001b[0mmax\u001b[0m\u001b[1;33m(\u001b[0m\u001b[0mself\u001b[0m\u001b[1;33m.\u001b[0m\u001b[0mretries\u001b[0m \u001b[1;33m-\u001b[0m \u001b[1;36m1\u001b[0m\u001b[1;33m,\u001b[0m \u001b[1;36m0\u001b[0m\u001b[1;33m)\u001b[0m\u001b[1;33m)\u001b[0m\u001b[1;33m:\u001b[0m\u001b[1;33m\u001b[0m\u001b[1;33m\u001b[0m\u001b[0m\n\u001b[0;32m     59\u001b[0m             \u001b[1;32mtry\u001b[0m\u001b[1;33m:\u001b[0m\u001b[1;33m\u001b[0m\u001b[1;33m\u001b[0m\u001b[0m\n\u001b[1;32m---> 60\u001b[1;33m                 \u001b[0mresult\u001b[0m \u001b[1;33m=\u001b[0m \u001b[0mfunc\u001b[0m\u001b[1;33m(\u001b[0m\u001b[0mself\u001b[0m\u001b[1;33m,\u001b[0m \u001b[1;33m*\u001b[0m\u001b[0margs\u001b[0m\u001b[1;33m,\u001b[0m \u001b[1;33m**\u001b[0m\u001b[0mkwargs\u001b[0m\u001b[1;33m)\u001b[0m\u001b[1;33m\u001b[0m\u001b[1;33m\u001b[0m\u001b[0m\n\u001b[0m\u001b[0;32m     61\u001b[0m             \u001b[1;32mexcept\u001b[0m \u001b[0mCensusException\u001b[0m \u001b[1;32mas\u001b[0m \u001b[0me\u001b[0m\u001b[1;33m:\u001b[0m\u001b[1;33m\u001b[0m\u001b[1;33m\u001b[0m\u001b[0m\n\u001b[0;32m     62\u001b[0m                 \u001b[1;32mif\u001b[0m \u001b[1;34m\"There was an error while running your query.  We've logged the error and we'll correct it ASAP.  Sorry for the inconvenience.\"\u001b[0m \u001b[1;32min\u001b[0m \u001b[0mstr\u001b[0m\u001b[1;33m(\u001b[0m\u001b[0me\u001b[0m\u001b[1;33m)\u001b[0m\u001b[1;33m:\u001b[0m\u001b[1;33m\u001b[0m\u001b[1;33m\u001b[0m\u001b[0m\n",
      "\u001b[1;32m~\\anaconda3\\envs\\PythonData\\lib\\site-packages\\census\\core.py\u001b[0m in \u001b[0;36mquery\u001b[1;34m(self, fields, geo, year, sort_by_geoid, **kwargs)\u001b[0m\n\u001b[0;32m    212\u001b[0m \u001b[1;33m\u001b[0m\u001b[0m\n\u001b[0;32m    213\u001b[0m         \u001b[1;32melse\u001b[0m\u001b[1;33m:\u001b[0m\u001b[1;33m\u001b[0m\u001b[1;33m\u001b[0m\u001b[0m\n\u001b[1;32m--> 214\u001b[1;33m             \u001b[1;32mraise\u001b[0m \u001b[0mCensusException\u001b[0m\u001b[1;33m(\u001b[0m\u001b[0mresp\u001b[0m\u001b[1;33m.\u001b[0m\u001b[0mtext\u001b[0m\u001b[1;33m)\u001b[0m\u001b[1;33m\u001b[0m\u001b[1;33m\u001b[0m\u001b[0m\n\u001b[0m\u001b[0;32m    215\u001b[0m \u001b[1;33m\u001b[0m\u001b[0m\n\u001b[0;32m    216\u001b[0m     \u001b[1;33m@\u001b[0m\u001b[0mlru_cache\u001b[0m\u001b[1;33m(\u001b[0m\u001b[0mmaxsize\u001b[0m\u001b[1;33m=\u001b[0m\u001b[1;36m1024\u001b[0m\u001b[1;33m)\u001b[0m\u001b[1;33m\u001b[0m\u001b[1;33m\u001b[0m\u001b[0m\n",
      "\u001b[1;31mCensusException\u001b[0m: Sorry, the system is currently undergoing maintenance or is busy.  Please try again later."
     ]
    }
   ],
   "source": [
    "# Census American Community Survey 5-Year Data \n",
    "# For list of variables, see https://api.census.gov/data/2021/acs/acs5/variables.html\n",
    "data = c.acs5.state_county(fields=('NAME', \"B11005_002E\",\"B19001_001E\",\"B19301_001E\",\"B15003_001E\",\"B01003_001E\", \"B01002_001E\",\n",
    "                                         \"B02001_002E\", \"B02001_003E\",\"B03001_003E\",\"B17001_002E\",\"B17001_002E\",\n",
    "                                         \"B19013_001E\",\"B17001_002E\",\"B23025_004E\",\"B23025_005E\",\"B15003_017E\",\"B15003_021E\",\n",
    "                                         \"B15003_022E\",\"B25003_001E\",\"B25003_002E\",\"B02001_005E\",\"B02001_008E\",\"B25003_003E\",\n",
    "                                         \"B19013A_001E\",\"B19013B_001E\",\"B19013D_001E\",\"B19013G_001E\",\"B19013G_001E\",\n",
    "                                         \"B28003_005E\", \"B28003_006E\"),\n",
    "                                  state_fips = states.MD.fips,\n",
    "                                  county_fips = \"*\",\n",
    "                                  year = 2019)                          \n"
   ]
  },
  {
   "cell_type": "code",
   "execution_count": null,
   "id": "67d742f5",
   "metadata": {},
   "outputs": [],
   "source": [
    "# Create dataframe from the census data\n",
    "counties_df2 = pd.DataFrame(data)\n",
    "\n",
    "\n",
    "# Note, per https://www.census.gov/data/developers/data-sets/acs-1year/notes-on-acs-estimate-and-annotation-values.html,\n",
    "# When estimate value is -666666666, it means estimate could not be computed bc there was insufficient number of sample observations.\n",
    "counties_df2"
   ]
  },
  {
   "cell_type": "code",
   "execution_count": null,
   "id": "bf281397",
   "metadata": {},
   "outputs": [],
   "source": [
    "# Replace the value -666666666.0 with 0 for the entire dataframe\n",
    "counties_df = counties_df2.replace(-666666666.0,0)\n",
    "counties_df"
   ]
  },
  {
   "cell_type": "code",
   "execution_count": null,
   "id": "52a18a89",
   "metadata": {},
   "outputs": [],
   "source": [
    "# Replace the census variable codes (such as \"B19013_001E\") in the dataframe with the name of the detailed table variables so it's understandable\n",
    "# I have the table id numbers listed in order so that it is easy to see what tables I have included at this point - can rearrange the column order later\n",
    "counties_df = counties_df.rename(columns={\"B01003_001E\": \"Population\",\n",
    "                                      \"B15003_001E\": \"Population 25 years and older\",      \n",
    "                                      \"B01002_001E\": \"Median age\", # universe: total population\n",
    "                                      \"B02001_003E\": \"Pop. Black\", # universe: total population\n",
    "                                      \"B02001_002E\": \"Pop. white\", # universe: total population\n",
    "                                      \"B02001_005E\": \"Pop. Asian\",  # universe: total population      \n",
    "                                      \"B02001_008E\": \"Pop. 2 or more races\", # universe: total population   \n",
    "                                      \"B03001_003E\": \"Pop. Hispanic origin\", # universe: total population\n",
    "                                      \"B11005_002E\": \"Households with one or more people under 18 years\",# universe: total households\n",
    "                                      \"B19301_001E\":  \"Per capita income\", # universe: total population \n",
    "                                      \"B15003_017E\": \"# persons age 25+ graduated high school\", # universe: Population 25 years and over\n",
    "                                      \"B15003_021E\": \"# persons Associates degree\",   # universe: Population 25 years and over\n",
    "                                      \"B15003_022E\": \"# persons age 25+ with Bachelors degree\", # universe: Population 25 years and over\n",
    "                                      \"B17001_002E\": \" Persons for whom poverty status determined\",    \n",
    "                                      \"B17001_002E\": \"Individuals- income below poverty level\",# universe: persons for whom poverty status is determined\n",
    "                                      \"B19001_001E\": \"Total households\",    \n",
    "                                      \"B19013_001E\": \"Median household income\", # universe: total households\n",
    "                                      \"B19013A_001E\": \"Median HH income White\", # universe: total households; \"white alone householder\"\n",
    "                                      \"B19013B_001E\": \"Median HH income Black\", # universe: total households; \"Black or African American Alone Householder\"\n",
    "                                      \"B19013D_001E\": \"Median HH income Asian\", # universe: total households; \"Asian Alone Householder\"\"\n",
    "                                      \"B19013G_001E\": \"Median HH income two or more races\", # universe: total households\n",
    "                                      \"B19013G_001E\": \"Median HH income Hispanic/Latinx, any race\", # universe: total households \n",
    "                                      \"B19301_001E\":  \"Per capita income\", # universe: total population\n",
    "                                      \"B23025_002E\": \"In labor force\", # universe: Population 16 years and over\n",
    "                                      \"B23025_004E\": \"Employed civilians\", # universe: Population 16 years and over\n",
    "                                      \"B23025_005E\": \"Unemployedment civilians\", # universe: Population 16 years and over\n",
    "                                      \"B25003_001E\": \"Total occupied units\", # universe: Housing units\n",
    "                                      \"B25003_002E\": \"Total owner-occupied units\", # universe: Housing units\n",
    "                                      \"B25003_003E\": \"Total renter-occupied units\", # universe: Housing units\n",
    "                                      \"B28003_005E\": \"# households with computer, no internet subscription\", # universe: total households\n",
    "                                      \"B28003_006E\": \"# households no computer\",  # universe: total households  \n",
    "                                      })\n",
    "counties_df.head()"
   ]
  },
  {
   "cell_type": "code",
   "execution_count": null,
   "id": "d8e6caa5",
   "metadata": {},
   "outputs": [],
   "source": [
    "# rename column\n",
    "counties_df = counties_df.rename(columns={\"NAME\":\"County\"})"
   ]
  },
  {
   "cell_type": "code",
   "execution_count": null,
   "id": "56bb2182",
   "metadata": {},
   "outputs": [],
   "source": [
    "# "
   ]
  },
  {
   "cell_type": "code",
   "execution_count": null,
   "id": "7ce480f8",
   "metadata": {},
   "outputs": [],
   "source": [
    "counties_df.columns"
   ]
  },
  {
   "cell_type": "code",
   "execution_count": null,
   "id": "8e8375b7",
   "metadata": {},
   "outputs": [],
   "source": [
    "counties_df[[\"Location\", \"State\"]] = counties_df.County.str.split(\",\", expand=True)\n",
    "counties_df.head()"
   ]
  },
  {
   "cell_type": "code",
   "execution_count": null,
   "id": "034764ff",
   "metadata": {},
   "outputs": [],
   "source": [
    "# drop unnecessary columns\n",
    "counties_df.drop(['state','county','State','County'], axis=1, inplace=True)\n",
    "counties_df.head()"
   ]
  },
  {
   "cell_type": "code",
   "execution_count": null,
   "id": "d31aa4e9",
   "metadata": {},
   "outputs": [],
   "source": [
    "# check data types of the column values\n",
    "counties_df.dtypes"
   ]
  },
  {
   "cell_type": "code",
   "execution_count": null,
   "id": "11a67cbc",
   "metadata": {},
   "outputs": [],
   "source": [
    "# "
   ]
  },
  {
   "cell_type": "code",
   "execution_count": null,
   "id": "2e14472f",
   "metadata": {},
   "outputs": [],
   "source": [
    "counties_df[\"Percent Black\"] =(100 * \\\n",
    "    counties_df[\"Pop. Black\"].astype(\n",
    "        int) / counties_df[\"Population\"].astype(\n",
    "        int)).round(1) \n",
    "\n"
   ]
  },
  {
   "cell_type": "code",
   "execution_count": null,
   "id": "a5bbe3d2",
   "metadata": {},
   "outputs": [],
   "source": [
    "counties_df[\"Percent white\"] =(100 * \\\n",
    "    counties_df[\"Pop. white\"].astype(\n",
    "        int) / counties_df[\"Population\"].astype(\n",
    "        int)).round(1) \n",
    "\n",
    "counties_df.head()"
   ]
  },
  {
   "cell_type": "code",
   "execution_count": null,
   "id": "3c6df729",
   "metadata": {},
   "outputs": [],
   "source": [
    "# remove word \"County\" from all values in \"Location\" column\n",
    "counties_df['Location'] = counties_df['Location'].str.replace('County', '')\n",
    "counties_df"
   ]
  },
  {
   "cell_type": "code",
   "execution_count": null,
   "id": "0917464e",
   "metadata": {},
   "outputs": [],
   "source": [
    "# change order of columns in df\n",
    "counties_df.loc[:,[\"Location\",\"Households with one or more people under 18 years\",\n",
    "       \"Total households\", \"Per capita income\",\n",
    "       \"Population 25 years and older\", \"Population\", \"Median age\",\n",
    "       \"Pop. white\", \"Pop. Black\", \"Pop. Hispanic origin\",\n",
    "       \"Individuals- income below poverty level\", \"Median household income\",\n",
    "       \"Employed civilians\", \"Unemployedment civilians\",\n",
    "       \"# persons age 25+ graduated high school\",\n",
    "       \"# persons Associates degree\",\n",
    "       \"# persons age 25+ with Bachelors degree\", \"Total occupied units\",\n",
    "       \"Total owner-occupied units\", \"Pop. Asian\", \"Pop. 2 or more races\",\n",
    "       \"Total renter-occupied units\", \"Median HH income White\",\n",
    "       \"Median HH income Black\", \"Median HH income Asian\",\n",
    "       \"Median HH income Hispanic/Latinx, any race\",\n",
    "       \"# households with computer, no internet subscription\",\n",
    "       \"# households no computer\",\"Percent Black\", \"Percent white\"]]\n",
    "counties_df.head()"
   ]
  },
  {
   "cell_type": "code",
   "execution_count": null,
   "id": "99df0b95",
   "metadata": {},
   "outputs": [],
   "source": []
  },
  {
   "cell_type": "code",
   "execution_count": null,
   "id": "f7a54d43",
   "metadata": {},
   "outputs": [],
   "source": []
  },
  {
   "cell_type": "code",
   "execution_count": null,
   "id": "baa33982",
   "metadata": {},
   "outputs": [],
   "source": [
    "# Export file as a CSV, without the Pandas index, but with the header\n",
    "#counties_df.to_csv(\"ACS_demographics_2019.csv\", index = False, header=True)"
   ]
  },
  {
   "cell_type": "code",
   "execution_count": null,
   "id": "3a5e3f93",
   "metadata": {},
   "outputs": [],
   "source": []
  },
  {
   "cell_type": "markdown",
   "id": "f2813781",
   "metadata": {},
   "source": [
    "## CHARTS"
   ]
  },
  {
   "cell_type": "code",
   "execution_count": null,
   "id": "dc5d2145",
   "metadata": {},
   "outputs": [],
   "source": [
    "# Plotly dashboard example   https://towardsdatascience.com/creating-an-interactive-dashboard-with-dash-plotly-using-crime-data-a217da841df3"
   ]
  },
  {
   "cell_type": "code",
   "execution_count": null,
   "id": "1312069f",
   "metadata": {},
   "outputs": [],
   "source": [
    "counties_df = counties_df.set_index(\"NAME\")\n"
   ]
  },
  {
   "cell_type": "code",
   "execution_count": null,
   "id": "8dac8c83",
   "metadata": {},
   "outputs": [],
   "source": []
  },
  {
   "cell_type": "code",
   "execution_count": null,
   "id": "c738e121",
   "metadata": {},
   "outputs": [],
   "source": []
  },
  {
   "cell_type": "code",
   "execution_count": null,
   "id": "4dc44d4b",
   "metadata": {},
   "outputs": [],
   "source": []
  },
  {
   "cell_type": "code",
   "execution_count": null,
   "id": "3f3427cf",
   "metadata": {},
   "outputs": [],
   "source": []
  },
  {
   "cell_type": "code",
   "execution_count": null,
   "id": "520b9a93",
   "metadata": {},
   "outputs": [],
   "source": []
  }
 ],
 "metadata": {
  "kernelspec": {
   "display_name": "Python 3",
   "language": "python",
   "name": "python3"
  },
  "language_info": {
   "codemirror_mode": {
    "name": "ipython",
    "version": 3
   },
   "file_extension": ".py",
   "mimetype": "text/x-python",
   "name": "python",
   "nbconvert_exporter": "python",
   "pygments_lexer": "ipython3",
   "version": "3.7.13"
  }
 },
 "nbformat": 4,
 "nbformat_minor": 5
}
